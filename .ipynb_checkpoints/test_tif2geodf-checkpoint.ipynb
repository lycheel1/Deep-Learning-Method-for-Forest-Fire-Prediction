{
 "cells": [
  {
   "cell_type": "code",
   "execution_count": 1,
   "id": "8056d661",
   "metadata": {
    "scrolled": true
   },
   "outputs": [
    {
     "name": "stderr",
     "output_type": "stream",
     "text": [
      "E:\\anaconda3\\envs\\wildfire2\\Lib\\site-packages\\pyproj\\__init__.py:89: UserWarning: pyproj unable to set database path.\n",
      "  _pyproj_global_context_initialize()\n"
     ]
    }
   ],
   "source": [
    "import osgeo\n",
    "import rioxarray\n",
    "import xarray\n",
    "import pandas as pd\n",
    "import geopandas as gpd\n",
    "from shapely.geometry import Point\n",
    "from pyproj import CRS\n",
    "from itertools import product\n",
    "import numpy as np"
   ]
  },
  {
   "cell_type": "code",
   "execution_count": 2,
   "id": "2a57fa3e",
   "metadata": {},
   "outputs": [],
   "source": [
    "fuels_tif = rioxarray.open_rasterio('./raw_data/fuel/Canadian_Forest_FBP_Fuel_Types_v20191114/fuel_layer/FBP_FuelLayer.tif')"
   ]
  },
  {
   "cell_type": "code",
   "execution_count": 3,
   "id": "02c1c949",
   "metadata": {
    "scrolled": true
   },
   "outputs": [
    {
     "name": "stdout",
     "output_type": "stream",
     "text": [
      "<xarray.DataArray (band: 1, y: 19841, x: 23724)>\n",
      "[470707884 values with dtype=uint16]\n",
      "Coordinates:\n",
      "  * band         (band) int32 1\n",
      "  * x            (x) float64 -2.697e+06 -2.697e+06 ... 3.233e+06 3.234e+06\n",
      "  * y            (y) float64 5.037e+06 5.037e+06 ... 7.719e+04 7.694e+04\n",
      "    spatial_ref  int32 0\n",
      "Attributes: (12/15)\n",
      "    AREA_OR_POINT:           Area\n",
      "    DataType:                Generic\n",
      "    BandName:                Band_1\n",
      "    RepresentationType:      ATHEMATIC\n",
      "    STATISTICS_COVARIANCES:  37530.10221158611\n",
      "    STATISTICS_MAXIMUM:      665\n",
      "    ...                      ...\n",
      "    STATISTICS_SKIPFACTORY:  1\n",
      "    STATISTICS_STDDEV:       193.72687529506\n",
      "    _FillValue:              65535\n",
      "    scale_factor:            1.0\n",
      "    add_offset:              0.0\n",
      "    long_name:               Band_1\n"
     ]
    }
   ],
   "source": [
    "print(fuels_tif)"
   ]
  },
  {
   "cell_type": "code",
   "execution_count": 4,
   "id": "712b6448-a34f-4774-b799-26b7ef0b0dac",
   "metadata": {},
   "outputs": [
    {
     "name": "stdout",
     "output_type": "stream",
     "text": [
      "                            band  spatial_ref  fuelType\n",
      "y            x                                         \n",
      "5.036937e+06 -2.697086e+06     1            0     65535\n",
      "             -2.696836e+06     1            0     65535\n",
      "             -2.696586e+06     1            0     65535\n",
      "             -2.696336e+06     1            0     65535\n",
      "             -2.696086e+06     1            0     65535\n",
      "...                          ...          ...       ...\n",
      "7.693690e+04  3.232664e+06     1            0     65535\n",
      "              3.232914e+06     1            0     65535\n",
      "              3.233164e+06     1            0     65535\n",
      "              3.233414e+06     1            0     65535\n",
      "              3.233664e+06     1            0     65535\n",
      "\n",
      "[470707884 rows x 3 columns]\n"
     ]
    }
   ],
   "source": [
    "df = fuels_tif.sel(band=1).to_dataframe(name='fuelType')\n",
    "del fuels_tif\n",
    "print(df)"
   ]
  },
  {
   "cell_type": "code",
   "execution_count": 4,
   "id": "2f5606be",
   "metadata": {},
   "outputs": [
    {
     "name": "stdout",
     "output_type": "stream",
     "text": [
      "                      y             x  fuelType\n",
      "0          5.036937e+06 -2.697086e+06     65535\n",
      "1          5.036937e+06 -2.696836e+06     65535\n",
      "2          5.036937e+06 -2.696586e+06     65535\n",
      "3          5.036937e+06 -2.696336e+06     65535\n",
      "4          5.036937e+06 -2.696086e+06     65535\n",
      "...                 ...           ...       ...\n",
      "470707879  7.693690e+04  3.232664e+06     65535\n",
      "470707880  7.693690e+04  3.232914e+06     65535\n",
      "470707881  7.693690e+04  3.233164e+06     65535\n",
      "470707882  7.693690e+04  3.233414e+06     65535\n",
      "470707883  7.693690e+04  3.233664e+06     65535\n",
      "\n",
      "[470707884 rows x 3 columns]\n"
     ]
    }
   ],
   "source": [
    "\n",
    "# Drop abundant features\n",
    "df = df.drop(columns=['band','spatial_ref'])\n",
    "df = df.reset_index()\n",
    "print(df)\n",
    "df['x'] = df['x'].astype('int32')\n",
    "df['y'] = df['y'].astype('int32')\n",
    "print(df)"
   ]
  },
  {
   "cell_type": "code",
   "execution_count": null,
   "id": "6e601274",
   "metadata": {},
   "outputs": [
    {
     "name": "stdout",
     "output_type": "stream",
     "text": [
      "processing chunk 0: index range(0,999999)\n",
      "processing chunk 1: index range(1000000,1999999)\n",
      "processing chunk 2: index range(2000000,2999999)\n",
      "processing chunk 3: index range(3000000,3999999)\n",
      "processing chunk 4: index range(4000000,4999999)\n",
      "processing chunk 5: index range(5000000,5999999)\n",
      "processing chunk 6: index range(6000000,6999999)\n",
      "processing chunk 7: index range(7000000,7999999)\n",
      "processing chunk 8: index range(8000000,8999999)\n",
      "processing chunk 9: index range(9000000,9999999)\n",
      "processing chunk 10: index range(10000000,10999999)\n",
      "processing chunk 11: index range(11000000,11999999)\n",
      "processing chunk 12: index range(12000000,12999999)\n",
      "processing chunk 13: index range(13000000,13999999)\n",
      "processing chunk 14: index range(14000000,14999999)\n",
      "processing chunk 15: index range(15000000,15999999)\n",
      "processing chunk 16: index range(16000000,16999999)\n",
      "processing chunk 17: index range(17000000,17999999)\n",
      "processing chunk 18: index range(18000000,18999999)\n",
      "processing chunk 19: index range(19000000,19999999)\n",
      "processing chunk 20: index range(20000000,20999999)\n",
      "processing chunk 21: index range(21000000,21999999)\n",
      "processing chunk 22: index range(22000000,22999999)\n",
      "processing chunk 23: index range(23000000,23999999)\n",
      "processing chunk 24: index range(24000000,24999999)\n",
      "processing chunk 25: index range(25000000,25999999)\n",
      "processing chunk 26: index range(26000000,26999999)\n",
      "processing chunk 27: index range(27000000,27999999)\n",
      "processing chunk 28: index range(28000000,28999999)\n",
      "processing chunk 29: index range(29000000,29999999)\n",
      "processing chunk 30: index range(30000000,30999999)\n",
      "processing chunk 31: index range(31000000,31999999)\n",
      "processing chunk 32: index range(32000000,32999999)\n",
      "processing chunk 33: index range(33000000,33999999)\n",
      "processing chunk 34: index range(34000000,34999999)\n",
      "processing chunk 35: index range(35000000,35999999)\n",
      "processing chunk 36: index range(36000000,36999999)\n",
      "processing chunk 37: index range(37000000,37999999)\n",
      "processing chunk 38: index range(38000000,38999999)\n",
      "processing chunk 39: index range(39000000,39999999)\n",
      "processing chunk 40: index range(40000000,40999999)\n",
      "processing chunk 41: index range(41000000,41999999)\n",
      "processing chunk 42: index range(42000000,42999999)\n",
      "processing chunk 43: index range(43000000,43999999)\n",
      "processing chunk 44: index range(44000000,44999999)\n",
      "processing chunk 45: index range(45000000,45999999)\n",
      "processing chunk 46: index range(46000000,46999999)\n",
      "processing chunk 47: index range(47000000,47999999)\n",
      "processing chunk 48: index range(48000000,48999999)\n",
      "processing chunk 49: index range(49000000,49999999)\n",
      "processing chunk 50: index range(50000000,50999999)\n",
      "processing chunk 51: index range(51000000,51999999)\n",
      "processing chunk 52: index range(52000000,52999999)\n",
      "processing chunk 53: index range(53000000,53999999)\n",
      "processing chunk 54: index range(54000000,54999999)\n",
      "processing chunk 55: index range(55000000,55999999)\n",
      "processing chunk 56: index range(56000000,56999999)\n",
      "processing chunk 57: index range(57000000,57999999)\n",
      "processing chunk 58: index range(58000000,58999999)\n",
      "processing chunk 59: index range(59000000,59999999)\n",
      "processing chunk 60: index range(60000000,60999999)\n",
      "processing chunk 61: index range(61000000,61999999)\n",
      "processing chunk 62: index range(62000000,62999999)\n",
      "processing chunk 63: index range(63000000,63999999)\n",
      "processing chunk 64: index range(64000000,64999999)\n",
      "processing chunk 65: index range(65000000,65999999)\n",
      "processing chunk 66: index range(66000000,66999999)\n",
      "processing chunk 67: index range(67000000,67999999)\n",
      "processing chunk 68: index range(68000000,68999999)\n",
      "processing chunk 69: index range(69000000,69999999)\n",
      "processing chunk 70: index range(70000000,70999999)\n",
      "processing chunk 71: index range(71000000,71999999)\n",
      "processing chunk 72: index range(72000000,72999999)\n",
      "processing chunk 73: index range(73000000,73999999)\n",
      "processing chunk 74: index range(74000000,74999999)\n",
      "processing chunk 75: index range(75000000,75999999)\n",
      "processing chunk 76: index range(76000000,76999999)\n",
      "processing chunk 77: index range(77000000,77999999)\n",
      "processing chunk 78: index range(78000000,78999999)\n",
      "processing chunk 79: index range(79000000,79999999)\n",
      "processing chunk 80: index range(80000000,80999999)\n",
      "processing chunk 81: index range(81000000,81999999)\n",
      "processing chunk 82: index range(82000000,82999999)\n",
      "processing chunk 83: index range(83000000,83999999)\n",
      "processing chunk 84: index range(84000000,84999999)\n",
      "processing chunk 85: index range(85000000,85999999)\n",
      "processing chunk 86: index range(86000000,86999999)\n",
      "processing chunk 87: index range(87000000,87999999)\n",
      "processing chunk 88: index range(88000000,88999999)\n",
      "processing chunk 89: index range(89000000,89999999)\n",
      "processing chunk 90: index range(90000000,90999999)\n",
      "processing chunk 91: index range(91000000,91999999)\n",
      "processing chunk 92: index range(92000000,92999999)\n",
      "processing chunk 93: index range(93000000,93999999)\n",
      "processing chunk 94: index range(94000000,94999999)\n",
      "processing chunk 95: index range(95000000,95999999)\n",
      "processing chunk 96: index range(96000000,96999999)\n",
      "processing chunk 97: index range(97000000,97999999)\n",
      "processing chunk 98: index range(98000000,98999999)\n",
      "processing chunk 99: index range(99000000,99999999)\n",
      "processing chunk 100: index range(100000000,100999999)\n",
      "processing chunk 101: index range(101000000,101999999)\n",
      "processing chunk 102: index range(102000000,102999999)\n",
      "processing chunk 103: index range(103000000,103999999)\n",
      "processing chunk 104: index range(104000000,104999999)\n",
      "processing chunk 105: index range(105000000,105999999)\n",
      "processing chunk 106: index range(106000000,106999999)\n",
      "processing chunk 107: index range(107000000,107999999)\n",
      "processing chunk 108: index range(108000000,108999999)\n",
      "processing chunk 109: index range(109000000,109999999)\n",
      "processing chunk 110: index range(110000000,110999999)\n",
      "processing chunk 111: index range(111000000,111999999)\n",
      "processing chunk 112: index range(112000000,112999999)\n",
      "processing chunk 113: index range(113000000,113999999)\n",
      "processing chunk 114: index range(114000000,114999999)\n",
      "processing chunk 115: index range(115000000,115999999)\n",
      "processing chunk 116: index range(116000000,116999999)\n",
      "processing chunk 117: index range(117000000,117999999)\n",
      "processing chunk 118: index range(118000000,118999999)\n",
      "processing chunk 119: index range(119000000,119999999)\n",
      "processing chunk 120: index range(120000000,120999999)\n",
      "processing chunk 121: index range(121000000,121999999)\n",
      "processing chunk 122: index range(122000000,122999999)\n",
      "processing chunk 123: index range(123000000,123999999)\n",
      "processing chunk 124: index range(124000000,124999999)\n",
      "processing chunk 125: index range(125000000,125999999)\n",
      "processing chunk 126: index range(126000000,126999999)\n",
      "processing chunk 127: index range(127000000,127999999)\n",
      "processing chunk 128: index range(128000000,128999999)\n",
      "processing chunk 129: index range(129000000,129999999)\n",
      "processing chunk 130: index range(130000000,130999999)\n",
      "processing chunk 131: index range(131000000,131999999)\n",
      "processing chunk 132: index range(132000000,132999999)\n",
      "processing chunk 133: index range(133000000,133999999)\n",
      "processing chunk 134: index range(134000000,134999999)\n",
      "processing chunk 135: index range(135000000,135999999)\n",
      "processing chunk 136: index range(136000000,136999999)\n",
      "processing chunk 137: index range(137000000,137999999)\n",
      "processing chunk 138: index range(138000000,138999999)\n",
      "processing chunk 139: index range(139000000,139999999)\n",
      "processing chunk 140: index range(140000000,140999999)\n",
      "processing chunk 141: index range(141000000,141999999)\n",
      "processing chunk 142: index range(142000000,142999999)\n",
      "processing chunk 143: index range(143000000,143999999)\n",
      "processing chunk 144: index range(144000000,144999999)\n",
      "processing chunk 145: index range(145000000,145999999)\n",
      "processing chunk 146: index range(146000000,146999999)\n",
      "processing chunk 147: index range(147000000,147999999)\n",
      "processing chunk 148: index range(148000000,148999999)\n",
      "processing chunk 149: index range(149000000,149999999)\n",
      "processing chunk 150: index range(150000000,150999999)\n",
      "processing chunk 151: index range(151000000,151999999)\n",
      "processing chunk 152: index range(152000000,152999999)\n",
      "processing chunk 153: index range(153000000,153999999)\n",
      "processing chunk 154: index range(154000000,154999999)\n",
      "processing chunk 155: index range(155000000,155999999)\n"
     ]
    },
    {
     "name": "stdout",
     "output_type": "stream",
     "text": [
      "processing chunk 156: index range(156000000,156999999)\n",
      "processing chunk 157: index range(157000000,157999999)\n",
      "processing chunk 158: index range(158000000,158999999)\n",
      "processing chunk 159: index range(159000000,159999999)\n",
      "processing chunk 160: index range(160000000,160999999)\n",
      "processing chunk 161: index range(161000000,161999999)\n",
      "processing chunk 162: index range(162000000,162999999)\n",
      "processing chunk 163: index range(163000000,163999999)\n",
      "processing chunk 164: index range(164000000,164999999)\n",
      "processing chunk 165: index range(165000000,165999999)\n",
      "processing chunk 166: index range(166000000,166999999)\n",
      "processing chunk 167: index range(167000000,167999999)\n",
      "processing chunk 168: index range(168000000,168999999)\n",
      "processing chunk 169: index range(169000000,169999999)\n",
      "processing chunk 170: index range(170000000,170999999)\n",
      "processing chunk 171: index range(171000000,171999999)\n",
      "processing chunk 172: index range(172000000,172999999)\n",
      "processing chunk 173: index range(173000000,173999999)\n",
      "processing chunk 174: index range(174000000,174999999)\n",
      "processing chunk 175: index range(175000000,175999999)\n",
      "processing chunk 176: index range(176000000,176999999)\n",
      "processing chunk 177: index range(177000000,177999999)\n",
      "processing chunk 178: index range(178000000,178999999)\n",
      "processing chunk 179: index range(179000000,179999999)\n",
      "processing chunk 180: index range(180000000,180999999)\n",
      "processing chunk 181: index range(181000000,181999999)\n"
     ]
    }
   ],
   "source": [
    "path='.'\n",
    "# each chunk size 1000000, from start_index to (end_index-1)\n",
    "total_size = df.shape[0]\n",
    "chunk_size = 1000000\n",
    "chunk_count = total_size//chunk_size + 1\n",
    "chunks_list = []\n",
    "\n",
    "for i in np.arange(0,chunk_count):\n",
    "    start_index = chunk_size*i\n",
    "    end_index = chunk_size*(i+1) if (i<chunk_count-1) else (total_size-1)\n",
    "    print(\"processing chunk \"+str(i)+\": index range(\"+str(start_index)+\",\"+str(end_index-1)+\")\")\n",
    "    \n",
    "    df_chunk = df.iloc[start_index:end_index]\n",
    "    geometry_chunk = [Point(xy) for xy in zip(df_chunk['x'],df_chunk['y'])]\n",
    "    gdf_chunk = gpd.GeoDataFrame(df_chunk['fuelType'],geometry=geometry_chunk)\n",
    "    \n",
    "    chunks_list.append(gdf_chunk)\n",
    "    \n",
    "# put chunks together and re-assign index\n",
    "fuel_gdf = gpd.concat(chunks_list, ignore_index=True)"
   ]
  },
  {
   "cell_type": "code",
   "execution_count": null,
   "id": "c4817167",
   "metadata": {},
   "outputs": [],
   "source": [
    "# the dataframe contains 470,707,883 samples and it is needed to use chunking for the memory usage\n",
    "# fuel_gdf = gpd.GeoDataFrame(df['fuelType'], geometry=geometry)"
   ]
  },
  {
   "cell_type": "code",
   "execution_count": null,
   "id": "4c52c723",
   "metadata": {},
   "outputs": [],
   "source": [
    "fuel_gdf.crs = \"+proj=lcc +lat_1=50 +lat_2=70 +lat_0=40 +lon_0=-96 +x_0=0 +y_0=0 +ellps=GRS80 +datum=NAD83 +units=m +no_defs\"\n",
    "fuel_gdf.to_file(path+\"/fuel_layer.shp\")"
   ]
  },
  {
   "cell_type": "code",
   "execution_count": null,
   "id": "6dd5b8e5-4049-437a-809e-c3c288285b45",
   "metadata": {},
   "outputs": [],
   "source": []
  },
  {
   "cell_type": "code",
   "execution_count": 7,
   "id": "7d8500dc-b091-4979-afe5-accebd42dc79",
   "metadata": {},
   "outputs": [
    {
     "name": "stdout",
     "output_type": "stream",
     "text": [
      "PROJCS[\"Canada_Lambert_Conformal_Conic\",GEOGCS[\"GCS_North_American_1983\",DATUM[\"D_North_American_1983\",SPHEROID[\"GRS_1980\",6378137,298.257222101]],PRIMEM[\"Greenwich\",0],UNIT[\"Degree\",0.0174532925199433]],PROJECTION[\"Lambert_Conformal_Conic_2SP\"],PARAMETER[\"latitude_of_origin\",49],PARAMETER[\"central_meridian\",-95],PARAMETER[\"standard_parallel_1\",49],PARAMETER[\"standard_parallel_2\",77],PARAMETER[\"false_easting\",0],PARAMETER[\"false_northing\",0],UNIT[\"Meter\",1],AXIS[\"Easting\",EAST],AXIS[\"Northing\",NORTH]]\n"
     ]
    }
   ],
   "source": [
    "import osgeo\n",
    "import fiona\n",
    "\n",
    "def get_coordinate_system(shp_file_path):\n",
    "    with fiona.open(shp_file_path) as shp:\n",
    "        return shp.crs\n",
    "\n",
    "# Replace 'path_to_shapefile.shp' with the actual file path\n",
    "system = get_coordinate_system(\"./data/fire/2009/2009_0/2009_0.shp\")\n",
    "print(system)"
   ]
  },
  {
   "cell_type": "code",
   "execution_count": 8,
   "id": "94f87d8d-b8c8-4ea9-8431-37bdca6f0b6a",
   "metadata": {},
   "outputs": [
    {
     "name": "stdout",
     "output_type": "stream",
     "text": [
      "PROJCS[\"NAD83 / Canada Atlas Lambert\",GEOGCS[\"NAD83\",DATUM[\"North_American_Datum_1983\",SPHEROID[\"GRS 1980\",6378137,298.257222101,AUTHORITY[\"EPSG\",\"7019\"]],TOWGS84[0,0,0,0,0,0,0],AUTHORITY[\"EPSG\",\"6269\"]],PRIMEM[\"Greenwich\",0,AUTHORITY[\"EPSG\",\"8901\"]],UNIT[\"degree\",0.0174532925199433,AUTHORITY[\"EPSG\",\"9122\"]],AUTHORITY[\"EPSG\",\"4269\"]],PROJECTION[\"Lambert_Conformal_Conic_2SP\"],PARAMETER[\"standard_parallel_1\",49],PARAMETER[\"standard_parallel_2\",77],PARAMETER[\"latitude_of_origin\",49],PARAMETER[\"central_meridian\",-95],PARAMETER[\"false_easting\",0],PARAMETER[\"false_northing\",0],UNIT[\"metre\",1,AUTHORITY[\"EPSG\",\"9001\"]],AXIS[\"Easting\",EAST],AXIS[\"Northing\",NORTH],AUTHORITY[\"EPSG\",\"3978\"]]\n"
     ]
    }
   ],
   "source": [
    "system2 = get_coordinate_system(\"./raw_data/hotspots/2007_hotspots.shp\")\n",
    "print(system2)"
   ]
  },
  {
   "cell_type": "code",
   "execution_count": 9,
   "id": "2ec903c6-5a45-42bc-ba71-455c94c331ab",
   "metadata": {},
   "outputs": [
    {
     "name": "stdout",
     "output_type": "stream",
     "text": [
      "PROJCS[\"Canada_Lambert_Conformal_Conic\",GEOGCS[\"GCS_North_American_1983\",DATUM[\"D_North_American_1983\",SPHEROID[\"GRS_1980\",6378137,298.257222101]],PRIMEM[\"Greenwich\",0],UNIT[\"Degree\",0.0174532925199433]],PROJECTION[\"Lambert_Conformal_Conic_2SP\"],PARAMETER[\"latitude_of_origin\",49],PARAMETER[\"central_meridian\",-95],PARAMETER[\"standard_parallel_1\",49],PARAMETER[\"standard_parallel_2\",77],PARAMETER[\"false_easting\",0],PARAMETER[\"false_northing\",0],UNIT[\"Meter\",1],AXIS[\"Easting\",EAST],AXIS[\"Northing\",NORTH]]\n"
     ]
    }
   ],
   "source": [
    "system3 = get_coordinate_system(\"./raw_data/burned_areas/2022a_raw.shp\")\n",
    "print(system3)"
   ]
  },
  {
   "cell_type": "code",
   "execution_count": 10,
   "id": "77460151-3006-4abc-902a-3c0351f6d86c",
   "metadata": {},
   "outputs": [
    {
     "name": "stdout",
     "output_type": "stream",
     "text": [
      "CRS: PROJCS[\"Canada_Lambert_Conformal_Conic\",GEOGCS[\"NAD83\",DATUM[\"North American Datum 1983\",SPHEROID[\"GRS 1980\",6378137,298.257222101004]],PRIMEM[\"Greenwich\",0],UNIT[\"degree\",0.0174532925199433,AUTHORITY[\"EPSG\",\"9122\"]]],PROJECTION[\"Lambert_Conformal_Conic_2SP\"],PARAMETER[\"latitude_of_origin\",40],PARAMETER[\"central_meridian\",-96],PARAMETER[\"standard_parallel_1\",50],PARAMETER[\"standard_parallel_2\",70],PARAMETER[\"false_easting\",0],PARAMETER[\"false_northing\",0],UNIT[\"metre\",1,AUTHORITY[\"EPSG\",\"9001\"]],AXIS[\"Easting\",EAST],AXIS[\"Northing\",NORTH]]\n"
     ]
    }
   ],
   "source": [
    "import rasterio\n",
    "\n",
    "# Replace this with the path to your TIF file\n",
    "file_path = './raw_data/fuel/Canadian_Forest_FBP_Fuel_Types_v20191114/fuel_layer/FBP_FuelLayer.tif'\n",
    "with rasterio.open(file_path) as src:\n",
    "    print(\"CRS:\", src.crs)"
   ]
  },
  {
   "cell_type": "code",
   "execution_count": null,
   "id": "eb98d2a6-fbe8-40ad-aa21-250672b1600f",
   "metadata": {},
   "outputs": [],
   "source": []
  }
 ],
 "metadata": {
  "kernelspec": {
   "display_name": "Python (wildfire2)",
   "language": "python",
   "name": "wildfire2"
  },
  "language_info": {
   "codemirror_mode": {
    "name": "ipython",
    "version": 3
   },
   "file_extension": ".py",
   "mimetype": "text/x-python",
   "name": "python",
   "nbconvert_exporter": "python",
   "pygments_lexer": "ipython3",
   "version": "3.12.0"
  }
 },
 "nbformat": 4,
 "nbformat_minor": 5
}
